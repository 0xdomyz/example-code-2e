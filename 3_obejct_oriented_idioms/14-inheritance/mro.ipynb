{
 "cells": [
  {
   "cell_type": "markdown",
   "metadata": {},
   "source": [
    "## mro\n",
    "\n",
    "Multiple inheritance needs to deal with potential naming conflicts in the inheritance graph. AKA the diamond problem.\n",
    "\n",
    "In python, the solution is MRO, and use of super()."
   ]
  },
  {
   "cell_type": "markdown",
   "metadata": {},
   "source": [
    "##### MRO\n",
    "\n",
    "MRO determine the potential resolution order of methods of same names.\n",
    "\n",
    "Every class has an attribute called __mro__ holding a tuple of references to\n",
    "the superclasses in method resolution order, from the current class all the way\n",
    "to the object class.\n",
    "\n",
    "The MRO takes into account the inheritance graph and the order\n",
    "in which superclasses are listed in a subclass declaration.\n"
   ]
  },
  {
   "cell_type": "markdown",
   "metadata": {},
   "source": [
    "#### super()\n",
    "\n",
    "Along the classes in the MRO, calling super() gives you a proxy object that delegates method calls to a parent or sibling class of the current class.\n",
    "\n",
    "When a method calls super(), it is a cooperative method. \n",
    "\n",
    "Cooperative methods enable cooperative multiple inheritance. \n",
    "\n",
    "Cooperative methods must have compatible signatures, because their order in MRO is not guaranteed.\n"
   ]
  },
  {
   "cell_type": "code",
   "execution_count": 2,
   "metadata": {},
   "outputs": [
    {
     "name": "stdout",
     "output_type": "stream",
     "text": [
      "Text, Widget, BaseWidget, Misc, Pack, Place, Grid, XView, YView, object\n"
     ]
    }
   ],
   "source": [
    "def print_mro(cls):\n",
    "    print(', '.join(c.__name__ for c in cls.__mro__))\n",
    "\n",
    "import tkinter\n",
    "print_mro(tkinter.Text)"
   ]
  }
 ],
 "metadata": {
  "kernelspec": {
   "display_name": "Python 3",
   "language": "python",
   "name": "python3"
  },
  "language_info": {
   "codemirror_mode": {
    "name": "ipython",
    "version": 3
   },
   "file_extension": ".py",
   "mimetype": "text/x-python",
   "name": "python",
   "nbconvert_exporter": "python",
   "pygments_lexer": "ipython3",
   "version": "3.11.0rc1"
  },
  "orig_nbformat": 4
 },
 "nbformat": 4,
 "nbformat_minor": 2
}
