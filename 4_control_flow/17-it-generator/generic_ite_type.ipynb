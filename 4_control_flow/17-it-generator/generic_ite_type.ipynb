{
 "cells": [
  {
   "cell_type": "code",
   "execution_count": 1,
   "metadata": {},
   "outputs": [],
   "source": [
    "from collections.abc import Iterable\n",
    "FromTo = tuple[str, str]\n",
    "\n",
    "def zip_replace(text: str, changes: Iterable[FromTo]) -> str:\n",
    "    for from_, to in changes:\n",
    "        text = text.replace(from_, to)\n",
    "    return text"
   ]
  },
  {
   "cell_type": "code",
   "execution_count": null,
   "metadata": {},
   "outputs": [],
   "source": [
    "from collections.abc import Iterator\n",
    "\n",
    "def fibonacci() -> Iterator[int]:\n",
    "    a, b = 0, 1\n",
    "    while True:\n",
    "        yield a\n",
    "        a, b = b, a + b"
   ]
  },
  {
   "cell_type": "code",
   "execution_count": 2,
   "metadata": {},
   "outputs": [
    {
     "data": {
      "text/plain": [
       "['Awaitable',\n",
       " 'Coroutine',\n",
       " 'AsyncIterable',\n",
       " 'AsyncIterator',\n",
       " 'AsyncGenerator',\n",
       " 'Hashable',\n",
       " 'Iterable',\n",
       " 'Iterator',\n",
       " 'Generator',\n",
       " 'Reversible',\n",
       " 'Sized',\n",
       " 'Container',\n",
       " 'Callable',\n",
       " 'Collection',\n",
       " 'Set',\n",
       " 'MutableSet',\n",
       " 'Mapping',\n",
       " 'MutableMapping',\n",
       " 'MappingView',\n",
       " 'KeysView',\n",
       " 'ItemsView',\n",
       " 'ValuesView',\n",
       " 'Sequence',\n",
       " 'MutableSequence',\n",
       " 'ByteString']"
      ]
     },
     "execution_count": 2,
     "metadata": {},
     "output_type": "execute_result"
    }
   ],
   "source": [
    "# collections abc\n",
    "\n",
    "import collections.abc as abc\n",
    "\n",
    "abc.__all__"
   ]
  },
  {
   "cell_type": "markdown",
   "metadata": {},
   "source": [
    "### generic aliases\n",
    "\n",
    "generic aliases are aliases that are not specific to a particular type. They are useful for defining generic functions that work on any type."
   ]
  },
  {
   "cell_type": "code",
   "execution_count": 3,
   "metadata": {},
   "outputs": [
    {
     "data": {
      "text/plain": [
       "types.GenericAlias"
      ]
     },
     "execution_count": 3,
     "metadata": {},
     "output_type": "execute_result"
    }
   ],
   "source": [
    "tuple[str, str].__class__"
   ]
  },
  {
   "cell_type": "code",
   "execution_count": 7,
   "metadata": {},
   "outputs": [
    {
     "data": {
      "text/plain": [
       "types.GenericAlias"
      ]
     },
     "execution_count": 7,
     "metadata": {},
     "output_type": "execute_result"
    }
   ],
   "source": [
    "dict[str, str].__class__"
   ]
  },
  {
   "cell_type": "code",
   "execution_count": 5,
   "metadata": {},
   "outputs": [
    {
     "data": {
      "text/plain": [
       "type"
      ]
     },
     "execution_count": 5,
     "metadata": {},
     "output_type": "execute_result"
    }
   ],
   "source": [
    "tuple.__class__"
   ]
  }
 ],
 "metadata": {
  "kernelspec": {
   "display_name": "Python 3",
   "language": "python",
   "name": "python3"
  },
  "language_info": {
   "codemirror_mode": {
    "name": "ipython",
    "version": 3
   },
   "file_extension": ".py",
   "mimetype": "text/x-python",
   "name": "python",
   "nbconvert_exporter": "python",
   "pygments_lexer": "ipython3",
   "version": "3.11.0"
  }
 },
 "nbformat": 4,
 "nbformat_minor": 2
}
